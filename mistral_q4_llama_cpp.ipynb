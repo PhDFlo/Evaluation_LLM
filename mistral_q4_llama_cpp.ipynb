{
 "cells": [
  {
   "cell_type": "code",
   "execution_count": null,
   "metadata": {},
   "outputs": [],
   "source": [
    "\n",
    "from llama_cpp import Llama\n",
    "\n",
    "llm = Llama.from_pretrained(\n",
    "\trepo_id=\"bartowski/Mistral-Small-24B-Instruct-2501-GGUF\",\n",
    "\tfilename=\"Mistral-Small-24B-Instruct-2501-IQ2_M.gguf\",\n",
    ")"
   ]
  },
  {
   "cell_type": "markdown",
   "metadata": {},
   "source": [
    "Run from llm_env\n",
    "\n",
    "{'id': 'chatcmpl-cba8f524-562b-4a6c-acfb-3106079193ae',\n",
    " 'object': 'chat.completion',\n",
    " 'created': 1740940730,\n",
    " 'model': '/Users/charlottechapellier/.cache/huggingface/hub/models--bartowski--Mistral-Small-24B-Instruct-2501-GGUF/snapshots/62a613c92d5a5f73bba6d348b51433b232c4640c/./Mistral-Small-24B-Instruct-2501-IQ2_M.gguf',\n",
    " 'choices': [{'index': 0,\n",
    "   'message': {'role': 'assistant',\n",
    "    'content': 'The capital of France is Paris. It is known for its iconic landmarks such as the Eiffel Tower, the Louvre Museum, and Notre-Dame Cathedral, as well as its rich cultural heritage and vibrant atmosphere. Paris has been the capital since the 10th century and is the largest city in France.'},\n",
    "   'logprobs': None,\n",
    "   'finish_reason': 'stop'}],\n",
    " 'usage': {'prompt_tokens': 10, 'completion_tokens': 62, 'total_tokens': 72}}"
   ]
  },
  {
   "cell_type": "code",
   "execution_count": null,
   "metadata": {},
   "outputs": [],
   "source": [
    "llm.create_chat_completion(\n",
    "\tmessages = [\n",
    "\t\t{\n",
    "\t\t\t\"role\": \"user\",\n",
    "\t\t\t\"content\": \"What is the capital of France?\"\n",
    "\t\t}\n",
    "\t]\n",
    ")"
   ]
  }
 ],
 "metadata": {
  "language_info": {
   "name": "python"
  }
 },
 "nbformat": 4,
 "nbformat_minor": 2
}
