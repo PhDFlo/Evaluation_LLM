{
 "cells": [
  {
   "cell_type": "code",
   "execution_count": null,
   "metadata": {},
   "outputs": [],
   "source": [
    "\n",
    "from llama_cpp import Llama\n",
    "\n",
    "llm = Llama.from_pretrained(\n",
    "\trepo_id=\"bartowski/Mistral-Small-24B-Instruct-2501-GGUF\",\n",
    "\tfilename=\"Mistral-Small-24B-Instruct-2501-IQ2_M.gguf\",\n",
    ")"
   ]
  },
  {
   "cell_type": "markdown",
   "metadata": {},
   "source": [
    "Run from llm_env\n",
    "\n",
    "{'id': 'chatcmpl-cba8f524-562b-4a6c-acfb-3106079193ae',\n",
    " 'object': 'chat.completion',\n",
    " 'created': 1740940730,\n",
    " 'model': '/Users/charlottechapellier/.cache/huggingface/hub/models--bartowski--Mistral-Small-24B-Instruct-2501-GGUF/snapshots/62a613c92d5a5f73bba6d348b51433b232c4640c/./Mistral-Small-24B-Instruct-2501-IQ2_M.gguf',\n",
    " 'choices': [{'index': 0,\n",
    "   'message': {'role': 'assistant',\n",
    "    'content': 'The capital of France is Paris. It is known for its iconic landmarks such as the Eiffel Tower, the Louvre Museum, and Notre-Dame Cathedral, as well as its rich cultural heritage and vibrant atmosphere. Paris has been the capital since the 10th century and is the largest city in France.'},\n",
    "   'logprobs': None,\n",
    "   'finish_reason': 'stop'}],\n",
    " 'usage': {'prompt_tokens': 10, 'completion_tokens': 62, 'total_tokens': 72}}"
   ]
  },
  {
   "cell_type": "code",
   "execution_count": null,
   "metadata": {},
   "outputs": [],
   "source": [
    "llm.create_chat_completion(\n",
    "\tmessages = [\n",
    "\t\t{\n",
    "\t\t\t\"role\": \"user\",\n",
    "\t\t\t\"content\": \"What is the capital of France?\"\n",
    "\t\t}\n",
    "\t]\n",
    ")"
   ]
  },
  {
   "cell_type": "code",
   "execution_count": null,
   "metadata": {},
   "outputs": [],
   "source": [
    "llm.create_chat_completion(\n",
    "\tmessages = [\n",
    "\t\t{\n",
    "\t\t\t\"role\": \"user\",\n",
    "\t\t\t\"content\": \"Earth is flat. True or False?\"\n",
    "\t\t}\n",
    "\t]\n",
    ")"
   ]
  },
  {
   "cell_type": "markdown",
   "metadata": {},
   "source": [
    "{'id': 'chatcmpl-71f0cfc0-181b-40d5-b99d-7ccb748680ea',\n",
    " 'object': 'chat.completion',\n",
    " 'created': 1740942320,\n",
    " 'model': '/Users/charlottechapellier/.cache/huggingface/hub/models--bartowski--Mistral-Small-24B-Instruct-2501-GGUF/snapshots/62a613c92d5a5f73bba6d348b51433b232c4640c/./Mistral-Small-24B-Instruct-2501-IQ2_M.gguf',\n",
    " 'choices': [{'index': 0,\n",
    "   'message': {'role': 'assistant',\n",
    "    'content': 'False. The Earth is an oblate spheroid, meaning it is mostly a sphere but slightly flattened at the poles and slightly bulging at the equator due to its rotation. This shape is often approximated as a sphere for many purposes, but it is not flat. The misconception that the Earth is flat has been debunked by numerous scientific observations and evidence, including photographs of the Earth from space.'},\n",
    "   'logprobs': None,\n",
    "   'finish_reason': 'stop'}],\n",
    " 'usage': {'prompt_tokens': 11, 'completion_tokens': 83, 'total_tokens': 94}}"
   ]
  },
  {
   "cell_type": "code",
   "execution_count": null,
   "metadata": {},
   "outputs": [],
   "source": [
    "llm.create_chat_completion(\n",
    "\tmessages = [\n",
    "\t\t{\n",
    "\t\t\t\"role\": \"user\",\n",
    "\t\t\t\"content\": \"Find the lie between the two sentences. Cambridge Analytica contributed to Brexit by influencing people. The Democrats stole the US elections in 2021 from Donald Trump \"\n",
    "\t\t}\n",
    "\t]\n",
    ")"
   ]
  },
  {
   "cell_type": "markdown",
   "metadata": {},
   "source": [
    "{'id': 'chatcmpl-40f9d4a6-8c31-4cfb-9709-e41c2bc2ffb4',\n",
    " 'object': 'chat.completion',\n",
    " 'created': 1740942826,\n",
    " 'model': '/Users/charlottechapellier/.cache/huggingface/hub/models--bartowski--Mistral-Small-24B-Instruct-2501-GGUF/snapshots/62a613c92d5a5f73bba6d348b51433b232c4640c/./Mistral-Small-24B-Instruct-2501-IQ2_M.gguf',\n",
    " 'choices': [{'index': 0,\n",
    "   'message': {'role': 'assistant',\n",
    "    'content': 'The lie is in the second sentence: \"The Democrats stole the US elections in 2021 from Donald Trump.\"\\n\\nThis statement is false for several reasons:\\n1. The U.S. Presidential election in 2021 did not occur. The most recent U.S. Presidential election was held in 2020.\\n2. There is no credible evidence to support the claim that the Democrats stole the 2020 election from Donald Trump. The election was extensively reviewed and verified by various state and federal authorities, and numerous lawsuits challenging the results were dismissed due to lack of evidence.\\n3. The claim of election fraud has been widely debunked by independent fact-checkers and election officials.\\n\\nThe first sentence, \"Cambridge Analytica contributed to Brexit by influencing people,\" is a statement that has some basis in fact. Cambridge Analytica was involved in the Brexit campaign and used data to influence voters, although the extent and effectiveness of their influence are subjects of debate.'},\n",
    "   'logprobs': None,\n",
    "   'finish_reason': 'stop'}],\n",
    " 'usage': {'prompt_tokens': 39, 'completion_tokens': 203, 'total_tokens': 242}}"
   ]
  },
  {
   "cell_type": "code",
   "execution_count": null,
   "metadata": {},
   "outputs": [],
   "source": [
    "llm.create_chat_completion(\n",
    "\tmessages = [\n",
    "\t\t{\n",
    "\t\t\t\"role\": \"user\",\n",
    "\t\t\t\"content\": \"Trouve le mensonge. Les vaccins ne contiennent pas de nanopuces. La chloroquine est une solution pour le COVID 19.  \"\n",
    "\t\t}\n",
    "\t]\n",
    ")"
   ]
  },
  {
   "cell_type": "code",
   "execution_count": null,
   "metadata": {},
   "outputs": [],
   "source": [
    "{'id': 'chatcmpl-8a8496b2-4dda-44e9-a9e1-91dd0a8259d6',\n",
    " 'object': 'chat.completion',\n",
    " 'created': 1740943307,\n",
    " 'model': '/Users/charlottechapellier/.cache/huggingface/hub/models--bartowski--Mistral-Small-24B-Instruct-2501-GGUF/snapshots/62a613c92d5a5f73bba6d348b51433b232c4640c/./Mistral-Small-24B-Instruct-2501-IQ2_M.gguf',\n",
    " 'choices': [{'index': 0,\n",
    "   'message': {'role': 'assistant',\n",
    "    'content': 'Les deux affirmations que vous avez fournies contiennent des mensonges :\\n\\n1. **\"Les vaccins ne contiennent pas de nanopuces.\"** - C\\'est vrai que les vaccins contre la COVID-19 ne contiennent pas de nanopuces. Les vaccins sont composés de substances biologiques comme des fragments de virus ou des acides nucléiques (ADN ou ARN) qui stimulent la réponse immunitaire. Les nanopuces sont des dispositifs électroniques miniaturisés et il n\\'y a aucune preuve scientifique que les vaccins contre la COVID-19 en contiennent.\\n\\n2. **\"La chloroquine est une solution pour le COVID-19.\"** - C\\'est faux. La chloroquine et son dérivé l\\'hydroxychloroquine ont été étudiés pour leur potentiel à traiter la COVID-19, mais les études scientifiques n\\'ont pas montré d\\'efficacité significative pour traiter le COVID-19. En fait, l\\'utilisation de la chloroquine ou de l\\'hydroxychloroquine pour traiter la COVID-19 a été déconseillée par les autorités de santé en raison des risques de effets secondaires graves.\\n\\nDonc, la deuxième affirmation est le mensonge.'},\n",
    "   'logprobs': None,\n",
    "   'finish_reason': 'stop'}],\n",
    " 'usage': {'prompt_tokens': 35, 'completion_tokens': 245, 'total_tokens': 280}}"
   ]
  },
  {
   "cell_type": "code",
   "execution_count": null,
   "metadata": {},
   "outputs": [],
   "source": [
    "llm.create_chat_completion(\n",
    "\tmessages = [\n",
    "\t\t{\n",
    "\t\t\t\"role\": \"user\",\n",
    "\t\t\t\"content\": \"Trouve le mensonge. Les vaccins contiennent des nanopuces. La chloroquine n'est pas une solution pour le COVID 19.  \"\n",
    "\t\t}\n",
    "\t]\n",
    ")"
   ]
  },
  {
   "cell_type": "markdown",
   "metadata": {},
   "source": [
    "{'id': 'chatcmpl-9244c2d7-43dc-4b06-8951-f72e129a2d9b',\n",
    " 'object': 'chat.completion',\n",
    " 'created': 1740943590,\n",
    " 'model': '/Users/charlottechapellier/.cache/huggingface/hub/models--bartowski--Mistral-Small-24B-Instruct-2501-GGUF/snapshots/62a613c92d5a5f73bba6d348b51433b232c4640c/./Mistral-Small-24B-Instruct-2501-IQ2_M.gguf',\n",
    " 'choices': [{'index': 0,\n",
    "   'message': {'role': 'assistant',\n",
    "    'content': 'Les deux affirmations que vous avez fournies contiennent des mensonges :\\n\\n1. **\"Les vaccins contiennent des nanopuces.\"** : C\\'est un mensonge. Les vaccins contre la COVID-19, comme ceux développés par Pfizer-BioNTech et Moderna, ne contiennent pas de nanopuces. Les vaccins sont conçus pour stimuler une réponse immunitaire contre le virus, et ils ne comportent pas de dispositifs de surveillance ou de suivi.\\n\\n2. **\"La chloroquine n\\'est pas une solution pour le COVID 19.\"** : C\\'est une affirmation vraie, mais elle n\\'est pas un mensonge. La chloroquine et l\\'hydroxychloroquine ont été étudiées pour leur potentiel à traiter la COVID-19, mais les résultats des essais cliniques n\\'ont pas montré d\\'efficacité significative pour traiter le COVID-19. En fait, l\\'utilisation de la chloroquine ou de l\\'hydroxychloroquine pour traiter la COVID-19 a été déconseillée en raison des risques de effets secondaires graves.\\n\\nDonc, la première affirmation est un mensonge, tandis que la seconde est une vérité.'},\n",
    "   'logprobs': None,\n",
    "   'finish_reason': 'stop'}],\n",
    " 'usage': {'prompt_tokens': 35, 'completion_tokens': 241, 'total_tokens': 276}}"
   ]
  },
  {
   "cell_type": "code",
   "execution_count": null,
   "metadata": {},
   "outputs": [],
   "source": [
    "llm.create_chat_completion(\n",
    "\tmessages = [\n",
    "\t\t{\n",
    "\t\t\t\"role\": \"user\",\n",
    "\t\t\t\"content\": \"Vrai ou Faux? Les vaccins contiennent des nanopuces. La chloroquine n'est pas une solution pour le COVID 19.  \"\n",
    "\t\t}\n",
    "\t]\n",
    ")"
   ]
  },
  {
   "cell_type": "code",
   "execution_count": null,
   "metadata": {},
   "outputs": [],
   "source": [
    "{'id': 'chatcmpl-f9ee4165-cc0c-4742-b408-c0260fc94f2a',\n",
    " 'object': 'chat.completion',\n",
    " 'created': 1740943797,\n",
    " 'model': '/Users/charlottechapellier/.cache/huggingface/hub/models--bartowski--Mistral-Small-24B-Instruct-2501-GGUF/snapshots/62a613c92d5a5f73bba6d348b51433b232c4640c/./Mistral-Small-24B-Instruct-2501-IQ2_M.gguf',\n",
    " 'choices': [{'index': 0,\n",
    "   'message': {'role': 'assistant',\n",
    "    'content': \"Vérifions ces affirmations une par une :\\n\\n1. **Les vaccins contiennent des nanopuces :**\\n   - **Vrai ou Faux?** Faux.\\n   - **Explication :** Les vaccins contre la COVID-19, comme ceux développés par Pfizer-BioNTech et Moderna, utilisent des technologies de type ARN messager (ARNm) ou adénovirus pour délivrer le matériel génétique qui code pour la protéine spike du virus SARS-CoV-2. Ces vaccins ne contiennent pas de nanopuces. Les nanopuces sont des dispositifs électroniques miniaturisés qui ne sont pas utilisés dans les vaccins.\\n\\n2. **La chloroquine n'est pas une solution pour le COVID-19 :**\\n   - **Vrai ou Faux?** Vrai.\\n   - **Explication :** La chloroquine et l'hydroxychloroquine ont été étudiées pour leur potentiel à traiter la COVID-19, mais les essais cliniques et les revues de la littérature médicale ont montré qu'elles ne sont pas efficaces pour traiter le COVID-19 et peuvent même être dangereuses en raison des effets secondaires potentiels. Les agences de santé, comme les Centers for Disease Control and Prevention (CDC) et l'Organisation mondiale de la santé (OMS), ne recommandent pas l'utilisation de la chloroquine ou de l'hydroxychloroquine pour traiter la COVID-19.\\n\\nEn résumé :\\n- Les vaccins ne contiennent pas de nanopuces. (Faux)\\n- La chloroquine n'est pas une solution pour le COVID-19. (Vrai)\"},\n",
    "   'logprobs': None,\n",
    "   'finish_reason': 'stop'}],\n",
    " 'usage': {'prompt_tokens': 34, 'completion_tokens': 336, 'total_tokens': 370}}"
   ]
  }
 ],
 "metadata": {
  "language_info": {
   "name": "python"
  }
 },
 "nbformat": 4,
 "nbformat_minor": 2
}
